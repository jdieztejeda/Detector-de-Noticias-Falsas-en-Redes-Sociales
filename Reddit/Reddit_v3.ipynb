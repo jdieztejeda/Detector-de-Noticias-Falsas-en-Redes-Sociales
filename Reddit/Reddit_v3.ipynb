{
 "cells": [
  {
   "cell_type": "code",
   "execution_count": null,
   "id": "e445ab5d",
   "metadata": {},
   "outputs": [],
   "source": [
    "from psaw import PushshiftAPI\n",
    "import praw\n",
    "import pandas as pd\n",
    "\n",
    "api = PushshiftAPI()\n",
    "\n",
    "\n",
    "posts = list(api.search_submissions(\n",
    "        subreddit='worldnews',   #Subreddit we want to audit\n",
    "        filter='title',        #Column names we want to retrieve\n",
    "        limit=2000))          ##Max number of posts\n",
    "\n",
    "df = pd.DataFrame(posts)\n",
    "print(df.columns)\n",
    "df.head(10)"
   ]
  },
  {
   "cell_type": "code",
   "execution_count": null,
   "id": "b50eb189",
   "metadata": {},
   "outputs": [],
   "source": [
    "print(df.shape)"
   ]
  },
  {
   "cell_type": "code",
   "execution_count": null,
   "id": "a3b23c62",
   "metadata": {},
   "outputs": [],
   "source": []
  }
 ],
 "metadata": {
  "kernelspec": {
   "display_name": "Python 3 (ipykernel)",
   "language": "python",
   "name": "python3"
  },
  "language_info": {
   "codemirror_mode": {
    "name": "ipython",
    "version": 3
   },
   "file_extension": ".py",
   "mimetype": "text/x-python",
   "name": "python",
   "nbconvert_exporter": "python",
   "pygments_lexer": "ipython3",
   "version": "3.8.11"
  }
 },
 "nbformat": 4,
 "nbformat_minor": 5
}
